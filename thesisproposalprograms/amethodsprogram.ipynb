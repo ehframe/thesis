{
 "cells": [
  {
   "cell_type": "code",
   "execution_count": 2,
   "id": "0db7819c-e2a0-4262-9459-d8f2175412e1",
   "metadata": {},
   "outputs": [],
   "source": [
    "from pymatgen.core import Structure\n",
    "from ase.visualize import view\n",
    "from pymatgen.io.cif import CifWriter\n",
    "\n",
    "# Load the CIF file\n",
    "structure = Structure.from_file('ZrO2_mp-2574_computed.cif')\n",
    "\n",
    "# Create a 2x2x2 supercell\n",
    "supercell = structure * [2, 2, 2]\n",
    "\n",
    "# Convert the supercell to an ASE Atoms object\n",
    "ase_atoms = supercell.to_ase_atoms()\n",
    "\n",
    "# View the 3D diagram using ASE\n",
    "view(ase_atoms)\n",
    "\n",
    "#import supercell parameters as CIF\n",
    "for i, site in enumerate(structure):\n",
    "    site.label = f\"{site.specie}{i}\"\n",
    "    \n",
    "CifWriter(supercell).write_file('ZrO2_mp-2574_supercell.cif')"
   ]
  },
  {
   "cell_type": "code",
   "execution_count": 10,
   "id": "550f191c-29ad-45e4-bc97-8a87d1f50d31",
   "metadata": {},
   "outputs": [
    {
     "data": {
      "text/plain": [
       "<Popen: returncode: None args: ['C:\\\\Users\\\\EFraim\\\\anaconda3.1\\\\python.exe'...>"
      ]
     },
     "execution_count": 10,
     "metadata": {},
     "output_type": "execute_result"
    }
   ],
   "source": [
    "import random\n",
    "from ase.io import write\n",
    "from ase.visualize import view\n",
    "from ase.atoms import Atoms\n",
    "from pymatgen.io.ase import AseAtomsAdaptor\n",
    "from pymatgen.core.structure import Structure\n",
    "\n",
    "# Load the ZrO2 structure from a CIF file\n",
    "structure = Structure.from_file('ZrO2_mp-2574_supercell.cif')\n",
    "\n",
    "def introduce_oxygen_vacancies(ase_atoms, num_vacancies):\n",
    "    oxygen_indices = [atom.index for atom in ase_atoms if atom.symbol == 'O']\n",
    "    # Select 'num_vacancies' random indices to remove oxygen atoms\n",
    "    vacancies_to_remove = random.sample(oxygen_indices, num_vacancies)\n",
    "    # Remove the selected atoms\n",
    "    for idx in sorted(vacancies_to_remove, reverse=True):\n",
    "        del ase_atoms[idx]\n",
    "    return ase_atoms\n",
    "\n",
    "# Convert PyMatGen Structure to ASE Atoms\n",
    "ase_atoms = AseAtomsAdaptor().get_atoms(structure)\n",
    "\n",
    "# Introduce 1 oxygen vacancy\n",
    "vacancy_atoms = introduce_oxygen_vacancies(ase_atoms.copy(), 1)\n",
    "\n",
    "# Save the structure with vacancies as a CIF file\n",
    "write('vacancy_structure.cif', vacancy_atoms)\n",
    "\n",
    "# Visualize the structure with vacancies using ASE (optional)\n",
    "view(vacancy_atoms)"
   ]
  },
  {
   "cell_type": "code",
   "execution_count": 11,
   "id": "256e4142-a1a6-4014-ab37-1efd8530ed1e",
   "metadata": {},
   "outputs": [
    {
     "data": {
      "text/plain": [
       "<Popen: returncode: None args: ['C:\\\\Users\\\\EFraim\\\\anaconda3.1\\\\python.exe'...>"
      ]
     },
     "execution_count": 11,
     "metadata": {},
     "output_type": "execute_result"
    }
   ],
   "source": [
    "from pymatgen.core import Structure\n",
    "from ase.visualize import view\n",
    "from pymatgen.io.cif import CifWriter\n",
    "\n",
    "# Load the CIF file\n",
    "structure = Structure.from_file('ZrO2_mp-2574_computed.cif')\n",
    "\n",
    "# Create a 2x2x2 supercell\n",
    "supercell = structure * [16, 16, 16]\n",
    "\n",
    "# Convert the supercell to an ASE Atoms object\n",
    "ase_atoms = supercell.to_ase_atoms()\n",
    "\n",
    "# View the 3D diagram using ASE\n",
    "view(ase_atoms)\n",
    "\n"
   ]
  },
  {
   "cell_type": "code",
   "execution_count": 16,
   "id": "6874382f-8e7d-4847-acff-c0775e0c1cad",
   "metadata": {},
   "outputs": [
    {
     "ename": "ModuleNotFoundError",
     "evalue": "No module named 'gpaw'",
     "output_type": "error",
     "traceback": [
      "\u001b[1;31m---------------------------------------------------------------------------\u001b[0m",
      "\u001b[1;31mModuleNotFoundError\u001b[0m                       Traceback (most recent call last)",
      "Cell \u001b[1;32mIn[16], line 5\u001b[0m\n\u001b[0;32m      3\u001b[0m \u001b[38;5;28;01mfrom\u001b[39;00m \u001b[38;5;21;01mase\u001b[39;00m\u001b[38;5;21;01m.\u001b[39;00m\u001b[38;5;21;01mbuild\u001b[39;00m \u001b[38;5;28;01mimport\u001b[39;00m bulk\n\u001b[0;32m      4\u001b[0m \u001b[38;5;28;01mfrom\u001b[39;00m \u001b[38;5;21;01mase\u001b[39;00m\u001b[38;5;21;01m.\u001b[39;00m\u001b[38;5;21;01mvisualize\u001b[39;00m \u001b[38;5;28;01mimport\u001b[39;00m view\n\u001b[1;32m----> 5\u001b[0m \u001b[38;5;28;01mfrom\u001b[39;00m \u001b[38;5;21;01mgpaw\u001b[39;00m \u001b[38;5;28;01mimport\u001b[39;00m GPAW, PW\n\u001b[0;32m      6\u001b[0m \u001b[38;5;28;01mfrom\u001b[39;00m \u001b[38;5;21;01mgpaw\u001b[39;00m\u001b[38;5;21;01m.\u001b[39;00m\u001b[38;5;21;01mhubbard\u001b[39;00m \u001b[38;5;28;01mimport\u001b[39;00m Hubbard\n\u001b[0;32m      8\u001b[0m \u001b[38;5;66;03m# Load the structure from the CIF file\u001b[39;00m\n",
      "\u001b[1;31mModuleNotFoundError\u001b[0m: No module named 'gpaw'"
     ]
    }
   ],
   "source": [
    "from ase import Atoms\n",
    "from ase.io import read, write\n",
    "from ase.build import bulk\n",
    "from ase.visualize import view\n",
    "from gpaw import GPAW, PW\n",
    "from gpaw.hubbard import Hubbard\n",
    "\n",
    "# Load the structure from the CIF file\n",
    "structure = read('ZrO2_mp-2574_computed_super.cif')\n",
    "\n",
    "# Define the Hubbard U correction parameters\n",
    "hubbard_u = {'Zr': {'d': 3.0}}  # U value for Zr d-orbitals\n",
    "\n",
    "# Set up the GPAW calculator\n",
    "calc = GPAW(mode=PW(400),  # Plane-wave basis set with 400 eV cutoff\n",
    "            xc='PBE',  # Exchange-correlation functional\n",
    "            kpts=(4, 4, 4),  # k-point grid\n",
    "            txt='gpaw_output.txt')  # Output file\n",
    "\n",
    "# Attach the Hubbard U corrections\n",
    "hubbard = Hubbard(hubbard_u)\n",
    "calc.attach(hubbard)\n",
    "\n",
    "# Assign the calculator to the structure\n",
    "structure.calc = calc\n",
    "\n",
    "# Perform the calculation\n",
    "energy = structure.get_potential_energy()\n",
    "\n",
    "# Save the output structure and energy\n",
    "write('ZrO2_output.cif', structure)\n",
    "print(f'Calculated energy: {energy} eV')"
   ]
  },
  {
   "cell_type": "code",
   "execution_count": 17,
   "id": "f55feff9-908f-4ffa-8ad3-ba01a027c097",
   "metadata": {},
   "outputs": [],
   "source": [
    "from ase import Atoms\n",
    "from ase.spacegroup import crystal\n",
    "\n",
    "\n",
    "class ZirconiaCrystal: # 4H SiC\n",
    "    def __init__(self, lattice_constant=00, temperature=00, other_params = \"vals\"):\n",
    "        #-------------------------------lattice parameters------------------------------\n",
    "        self.a = 3.64381100 #Angstrom\n",
    "        self.b = 3.64381100 #Angstrom\n",
    "        self.c = 5.31456000 #Angstrom\n",
    "        self.alpha = 90 #degrees\n",
    "        self.beta = 90 #degrees\n",
    "        self.gamma = 90 #degrees\n",
    "        #-------------------------------------------------------------------------------------------\n",
    "        #------------------------------Wyckoff-----------------------------------------------------\n",
    "        self.wyckoff_positions = [\n",
    "            ('Zr', (0, 0, 0), '2a'),\n",
    "            ('O', (0, 1/2, 0.301775), '4d')\n",
    "        ]\n",
    "        #------------------------------------------------------------------------------------------\n",
    "        #-------------------space group------------------------------------------------------------\n",
    "        self.spacegroup = 137 #P6_3mc\n",
    "        #------------------------------------------------------------------------------------------\n",
    "        #------------------Other Parameters, Group when necessary----------------------------------\n",
    "        #-------------------------------------------------------------------------------------------\n",
    "\n",
    "\n",
    "    def initialize_structure(self):\n",
    "        # Initialize positions of Si and C atoms in the unit cell\n",
    "        \"\"\"\n",
    "        SAMPLE USE:\n",
    "        \n",
    "        crystal(('Co', 'Sb'),\n",
    "                       basis=[(0.25, 0.25, 0.25), (0.0, 0.335, 0.158)],\n",
    "                       spacegroup=204,\n",
    "                       cellpar=[a, a, a, 90, 90, 90])\n",
    "        \"\"\"\n",
    "        \n",
    "        structure = crystal(\n",
    "            symbols = [atom[0] for atom in self.wyckoff_positions],\n",
    "            basis = [atom[1] for atom in self.wyckoff_positions],\n",
    "            spacegroup = self.spacegroup,\n",
    "            cellpar = [self.a, self.b, self.c, self.alpha, self.beta, self.gamma]\n",
    "        )*(2, 4, 2)\n",
    "        return structure\n",
    "    \n"
   ]
  },
  {
   "cell_type": "code",
   "execution_count": 16,
   "id": "0cb234de-2f76-4414-8e47-2c5f24fbbac8",
   "metadata": {},
   "outputs": [
    {
     "ename": "ModuleNotFoundError",
     "evalue": "No module named 'ZrO2_structure'",
     "output_type": "error",
     "traceback": [
      "\u001b[1;31m---------------------------------------------------------------------------\u001b[0m",
      "\u001b[1;31mModuleNotFoundError\u001b[0m                       Traceback (most recent call last)",
      "Cell \u001b[1;32mIn[16], line 1\u001b[0m\n\u001b[1;32m----> 1\u001b[0m \u001b[38;5;28;01mfrom\u001b[39;00m \u001b[38;5;21;01mZrO2_structure\u001b[39;00m \u001b[38;5;28;01mimport\u001b[39;00m ZirconiaCrystal\n\u001b[0;32m      2\u001b[0m \u001b[38;5;28;01mfrom\u001b[39;00m \u001b[38;5;21;01mase\u001b[39;00m\u001b[38;5;21;01m.\u001b[39;00m\u001b[38;5;21;01mvisualize\u001b[39;00m \u001b[38;5;28;01mimport\u001b[39;00m view\n\u001b[0;32m      4\u001b[0m structure \u001b[38;5;241m=\u001b[39m ZirconiaCrystal()\u001b[38;5;241m.\u001b[39minitialize_structure()\n",
      "\u001b[1;31mModuleNotFoundError\u001b[0m: No module named 'ZrO2_structure'"
     ]
    }
   ],
   "source": [
    "from ZrO2_structure import ZirconiaCrystal\n",
    "from ase.visualize import view\n",
    "\n",
    "structure = ZirconiaCrystal().initialize_structure()\n",
    "print(len(structure.positions))\n",
    "del structure[34]\n",
    "#print(structure.positions)\n",
    "view(structure)\n",
    "print(len(structure.positions))"
   ]
  },
  {
   "cell_type": "code",
   "execution_count": 3,
   "id": "b4e2e7ef-3ca4-4d07-876b-a7e2d9910d20",
   "metadata": {},
   "outputs": [
    {
     "name": "stdout",
     "output_type": "stream",
     "text": [
      "Initial number of atoms: 48\n",
      "Number of atoms after vacancy: 47\n"
     ]
    },
    {
     "ename": "AttributeError",
     "evalue": "'Structure' object has no attribute 'to_ase'",
     "output_type": "error",
     "traceback": [
      "\u001b[1;31m---------------------------------------------------------------------------\u001b[0m",
      "\u001b[1;31mAttributeError\u001b[0m                            Traceback (most recent call last)",
      "Cell \u001b[1;32mIn[3], line 27\u001b[0m\n\u001b[0;32m     24\u001b[0m \u001b[38;5;28mprint\u001b[39m(\u001b[38;5;124m\"\u001b[39m\u001b[38;5;124mNumber of atoms after vacancy:\u001b[39m\u001b[38;5;124m\"\u001b[39m, \u001b[38;5;28mlen\u001b[39m(structure_with_vacancy))\n\u001b[0;32m     26\u001b[0m \u001b[38;5;66;03m# Convert the structure with vacancy into an ASE Atoms object\u001b[39;00m\n\u001b[1;32m---> 27\u001b[0m ase_atoms \u001b[38;5;241m=\u001b[39m structure_with_vacancy\u001b[38;5;241m.\u001b[39mto_ase()\n\u001b[0;32m     29\u001b[0m \u001b[38;5;66;03m# Visualize using ASE\u001b[39;00m\n\u001b[0;32m     30\u001b[0m view(ase_atoms)\n",
      "\u001b[1;31mAttributeError\u001b[0m: 'Structure' object has no attribute 'to_ase'"
     ]
    }
   ],
   "source": []
  },
  {
   "cell_type": "code",
   "execution_count": null,
   "id": "b2c0584f-a7c6-4161-95b1-68098583bc3c",
   "metadata": {},
   "outputs": [],
   "source": []
  }
 ],
 "metadata": {
  "kernelspec": {
   "display_name": "Python 3 (ipykernel)",
   "language": "python",
   "name": "python3"
  },
  "language_info": {
   "codemirror_mode": {
    "name": "ipython",
    "version": 3
   },
   "file_extension": ".py",
   "mimetype": "text/x-python",
   "name": "python",
   "nbconvert_exporter": "python",
   "pygments_lexer": "ipython3",
   "version": "3.11.5"
  }
 },
 "nbformat": 4,
 "nbformat_minor": 5
}
